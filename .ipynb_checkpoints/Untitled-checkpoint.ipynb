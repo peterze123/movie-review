{
 "cells": [
  {
   "cell_type": "code",
   "execution_count": 1,
   "id": "2a8ef64a-78a9-4956-afa9-2dc82ff44176",
   "metadata": {},
   "outputs": [],
   "source": [
    "import pandas as pd\n",
    "import numpy as np\n",
    "import matplotlib.pyplot as plt\n",
    "from scipy import stats\n",
    "from sklearn.decomposition import PCA"
   ]
  },
  {
   "cell_type": "code",
   "execution_count": 2,
   "id": "08fab7df-5cbc-4e39-9ff8-c46ee7b84348",
   "metadata": {},
   "outputs": [],
   "source": [
    "df = pd.read_csv('movieReplicationSet - Copy.csv')"
   ]
  },
  {
   "cell_type": "code",
   "execution_count": 3,
   "id": "a89daf55-408c-4c25-adea-79425123916e",
   "metadata": {},
   "outputs": [
    {
     "data": {
      "text/html": [
       "<div>\n",
       "<style scoped>\n",
       "    .dataframe tbody tr th:only-of-type {\n",
       "        vertical-align: middle;\n",
       "    }\n",
       "\n",
       "    .dataframe tbody tr th {\n",
       "        vertical-align: top;\n",
       "    }\n",
       "\n",
       "    .dataframe thead th {\n",
       "        text-align: right;\n",
       "    }\n",
       "</style>\n",
       "<table border=\"1\" class=\"dataframe\">\n",
       "  <thead>\n",
       "    <tr style=\"text-align: right;\">\n",
       "      <th></th>\n",
       "      <th>The Life of David Gale (2003)</th>\n",
       "      <th>Wing Commander (1999)</th>\n",
       "      <th>Django Unchained (2012)</th>\n",
       "      <th>Alien (1979)</th>\n",
       "      <th>Indiana Jones and the Last Crusade (1989)</th>\n",
       "      <th>Snatch (2000)</th>\n",
       "      <th>Rambo: First Blood Part II (1985)</th>\n",
       "      <th>Fargo (1996)</th>\n",
       "      <th>Let the Right One In (2008)</th>\n",
       "      <th>Black Swan (2010)</th>\n",
       "      <th>...</th>\n",
       "      <th>When watching a movie I cheer or shout or talk or curse at the screen</th>\n",
       "      <th>When watching a movie I feel like the things on the screen are happening to me</th>\n",
       "      <th>As a movie unfolds I start to have problems keeping track of events that happened earlier</th>\n",
       "      <th>The emotions on the screen \"rub off\" on me - for instance if something sad is happening I get sad or if something frightening is happening I get scared</th>\n",
       "      <th>When watching a movie I get completely immersed in the alternative reality of the film</th>\n",
       "      <th>Movies change my position on social economic or political issues</th>\n",
       "      <th>When watching movies things get so intense that I have to stop watching</th>\n",
       "      <th>Gender identity (1 = female; 2 = male; 3 = self-described)</th>\n",
       "      <th>Are you an only child? (1: Yes; 0: No; -1: Did not respond)</th>\n",
       "      <th>Movies are best enjoyed alone (1: Yes; 0: No; -1: Did not respond)</th>\n",
       "    </tr>\n",
       "  </thead>\n",
       "  <tbody>\n",
       "    <tr>\n",
       "      <th>0</th>\n",
       "      <td>NaN</td>\n",
       "      <td>NaN</td>\n",
       "      <td>4.0</td>\n",
       "      <td>NaN</td>\n",
       "      <td>3.0</td>\n",
       "      <td>NaN</td>\n",
       "      <td>NaN</td>\n",
       "      <td>NaN</td>\n",
       "      <td>NaN</td>\n",
       "      <td>NaN</td>\n",
       "      <td>...</td>\n",
       "      <td>1.0</td>\n",
       "      <td>6.0</td>\n",
       "      <td>2.0</td>\n",
       "      <td>5.0</td>\n",
       "      <td>5.0</td>\n",
       "      <td>5.0</td>\n",
       "      <td>1.0</td>\n",
       "      <td>1.0</td>\n",
       "      <td>0</td>\n",
       "      <td>1</td>\n",
       "    </tr>\n",
       "    <tr>\n",
       "      <th>1</th>\n",
       "      <td>NaN</td>\n",
       "      <td>NaN</td>\n",
       "      <td>1.5</td>\n",
       "      <td>NaN</td>\n",
       "      <td>NaN</td>\n",
       "      <td>NaN</td>\n",
       "      <td>NaN</td>\n",
       "      <td>NaN</td>\n",
       "      <td>NaN</td>\n",
       "      <td>NaN</td>\n",
       "      <td>...</td>\n",
       "      <td>3.0</td>\n",
       "      <td>1.0</td>\n",
       "      <td>1.0</td>\n",
       "      <td>6.0</td>\n",
       "      <td>5.0</td>\n",
       "      <td>3.0</td>\n",
       "      <td>2.0</td>\n",
       "      <td>1.0</td>\n",
       "      <td>0</td>\n",
       "      <td>0</td>\n",
       "    </tr>\n",
       "    <tr>\n",
       "      <th>2</th>\n",
       "      <td>NaN</td>\n",
       "      <td>NaN</td>\n",
       "      <td>NaN</td>\n",
       "      <td>NaN</td>\n",
       "      <td>NaN</td>\n",
       "      <td>NaN</td>\n",
       "      <td>NaN</td>\n",
       "      <td>NaN</td>\n",
       "      <td>NaN</td>\n",
       "      <td>NaN</td>\n",
       "      <td>...</td>\n",
       "      <td>5.0</td>\n",
       "      <td>4.0</td>\n",
       "      <td>3.0</td>\n",
       "      <td>5.0</td>\n",
       "      <td>5.0</td>\n",
       "      <td>4.0</td>\n",
       "      <td>4.0</td>\n",
       "      <td>1.0</td>\n",
       "      <td>1</td>\n",
       "      <td>0</td>\n",
       "    </tr>\n",
       "    <tr>\n",
       "      <th>3</th>\n",
       "      <td>NaN</td>\n",
       "      <td>NaN</td>\n",
       "      <td>2.0</td>\n",
       "      <td>NaN</td>\n",
       "      <td>3.0</td>\n",
       "      <td>NaN</td>\n",
       "      <td>NaN</td>\n",
       "      <td>NaN</td>\n",
       "      <td>NaN</td>\n",
       "      <td>4.0</td>\n",
       "      <td>...</td>\n",
       "      <td>3.0</td>\n",
       "      <td>1.0</td>\n",
       "      <td>1.0</td>\n",
       "      <td>4.0</td>\n",
       "      <td>5.0</td>\n",
       "      <td>3.0</td>\n",
       "      <td>1.0</td>\n",
       "      <td>1.0</td>\n",
       "      <td>0</td>\n",
       "      <td>1</td>\n",
       "    </tr>\n",
       "    <tr>\n",
       "      <th>4</th>\n",
       "      <td>NaN</td>\n",
       "      <td>NaN</td>\n",
       "      <td>3.5</td>\n",
       "      <td>NaN</td>\n",
       "      <td>0.5</td>\n",
       "      <td>NaN</td>\n",
       "      <td>0.5</td>\n",
       "      <td>1.0</td>\n",
       "      <td>NaN</td>\n",
       "      <td>0.0</td>\n",
       "      <td>...</td>\n",
       "      <td>2.0</td>\n",
       "      <td>3.0</td>\n",
       "      <td>2.0</td>\n",
       "      <td>5.0</td>\n",
       "      <td>6.0</td>\n",
       "      <td>4.0</td>\n",
       "      <td>4.0</td>\n",
       "      <td>1.0</td>\n",
       "      <td>1</td>\n",
       "      <td>1</td>\n",
       "    </tr>\n",
       "    <tr>\n",
       "      <th>...</th>\n",
       "      <td>...</td>\n",
       "      <td>...</td>\n",
       "      <td>...</td>\n",
       "      <td>...</td>\n",
       "      <td>...</td>\n",
       "      <td>...</td>\n",
       "      <td>...</td>\n",
       "      <td>...</td>\n",
       "      <td>...</td>\n",
       "      <td>...</td>\n",
       "      <td>...</td>\n",
       "      <td>...</td>\n",
       "      <td>...</td>\n",
       "      <td>...</td>\n",
       "      <td>...</td>\n",
       "      <td>...</td>\n",
       "      <td>...</td>\n",
       "      <td>...</td>\n",
       "      <td>...</td>\n",
       "      <td>...</td>\n",
       "      <td>...</td>\n",
       "    </tr>\n",
       "    <tr>\n",
       "      <th>1092</th>\n",
       "      <td>NaN</td>\n",
       "      <td>NaN</td>\n",
       "      <td>NaN</td>\n",
       "      <td>NaN</td>\n",
       "      <td>3.5</td>\n",
       "      <td>NaN</td>\n",
       "      <td>NaN</td>\n",
       "      <td>NaN</td>\n",
       "      <td>NaN</td>\n",
       "      <td>NaN</td>\n",
       "      <td>...</td>\n",
       "      <td>3.0</td>\n",
       "      <td>4.0</td>\n",
       "      <td>3.0</td>\n",
       "      <td>5.0</td>\n",
       "      <td>5.0</td>\n",
       "      <td>4.0</td>\n",
       "      <td>4.0</td>\n",
       "      <td>1.0</td>\n",
       "      <td>0</td>\n",
       "      <td>0</td>\n",
       "    </tr>\n",
       "    <tr>\n",
       "      <th>1093</th>\n",
       "      <td>3.0</td>\n",
       "      <td>4.0</td>\n",
       "      <td>NaN</td>\n",
       "      <td>NaN</td>\n",
       "      <td>4.0</td>\n",
       "      <td>4.0</td>\n",
       "      <td>2.5</td>\n",
       "      <td>NaN</td>\n",
       "      <td>3.5</td>\n",
       "      <td>3.5</td>\n",
       "      <td>...</td>\n",
       "      <td>5.0</td>\n",
       "      <td>3.0</td>\n",
       "      <td>5.0</td>\n",
       "      <td>5.0</td>\n",
       "      <td>5.0</td>\n",
       "      <td>6.0</td>\n",
       "      <td>5.0</td>\n",
       "      <td>1.0</td>\n",
       "      <td>0</td>\n",
       "      <td>0</td>\n",
       "    </tr>\n",
       "    <tr>\n",
       "      <th>1094</th>\n",
       "      <td>NaN</td>\n",
       "      <td>NaN</td>\n",
       "      <td>NaN</td>\n",
       "      <td>NaN</td>\n",
       "      <td>NaN</td>\n",
       "      <td>NaN</td>\n",
       "      <td>NaN</td>\n",
       "      <td>3.5</td>\n",
       "      <td>NaN</td>\n",
       "      <td>NaN</td>\n",
       "      <td>...</td>\n",
       "      <td>6.0</td>\n",
       "      <td>3.0</td>\n",
       "      <td>1.0</td>\n",
       "      <td>6.0</td>\n",
       "      <td>6.0</td>\n",
       "      <td>4.0</td>\n",
       "      <td>2.0</td>\n",
       "      <td>1.0</td>\n",
       "      <td>0</td>\n",
       "      <td>0</td>\n",
       "    </tr>\n",
       "    <tr>\n",
       "      <th>1095</th>\n",
       "      <td>NaN</td>\n",
       "      <td>NaN</td>\n",
       "      <td>NaN</td>\n",
       "      <td>NaN</td>\n",
       "      <td>NaN</td>\n",
       "      <td>NaN</td>\n",
       "      <td>NaN</td>\n",
       "      <td>NaN</td>\n",
       "      <td>NaN</td>\n",
       "      <td>NaN</td>\n",
       "      <td>...</td>\n",
       "      <td>1.0</td>\n",
       "      <td>1.0</td>\n",
       "      <td>1.0</td>\n",
       "      <td>4.0</td>\n",
       "      <td>3.0</td>\n",
       "      <td>3.0</td>\n",
       "      <td>1.0</td>\n",
       "      <td>1.0</td>\n",
       "      <td>0</td>\n",
       "      <td>1</td>\n",
       "    </tr>\n",
       "    <tr>\n",
       "      <th>1096</th>\n",
       "      <td>NaN</td>\n",
       "      <td>NaN</td>\n",
       "      <td>4.0</td>\n",
       "      <td>NaN</td>\n",
       "      <td>2.5</td>\n",
       "      <td>NaN</td>\n",
       "      <td>NaN</td>\n",
       "      <td>3.0</td>\n",
       "      <td>NaN</td>\n",
       "      <td>3.5</td>\n",
       "      <td>...</td>\n",
       "      <td>3.0</td>\n",
       "      <td>4.0</td>\n",
       "      <td>1.0</td>\n",
       "      <td>4.0</td>\n",
       "      <td>4.0</td>\n",
       "      <td>4.0</td>\n",
       "      <td>1.0</td>\n",
       "      <td>1.0</td>\n",
       "      <td>0</td>\n",
       "      <td>1</td>\n",
       "    </tr>\n",
       "  </tbody>\n",
       "</table>\n",
       "<p>1097 rows × 477 columns</p>\n",
       "</div>"
      ],
      "text/plain": [
       "      The Life of David Gale (2003)  Wing Commander (1999)  \\\n",
       "0                               NaN                    NaN   \n",
       "1                               NaN                    NaN   \n",
       "2                               NaN                    NaN   \n",
       "3                               NaN                    NaN   \n",
       "4                               NaN                    NaN   \n",
       "...                             ...                    ...   \n",
       "1092                            NaN                    NaN   \n",
       "1093                            3.0                    4.0   \n",
       "1094                            NaN                    NaN   \n",
       "1095                            NaN                    NaN   \n",
       "1096                            NaN                    NaN   \n",
       "\n",
       "      Django Unchained (2012)  Alien (1979)  \\\n",
       "0                         4.0           NaN   \n",
       "1                         1.5           NaN   \n",
       "2                         NaN           NaN   \n",
       "3                         2.0           NaN   \n",
       "4                         3.5           NaN   \n",
       "...                       ...           ...   \n",
       "1092                      NaN           NaN   \n",
       "1093                      NaN           NaN   \n",
       "1094                      NaN           NaN   \n",
       "1095                      NaN           NaN   \n",
       "1096                      4.0           NaN   \n",
       "\n",
       "      Indiana Jones and the Last Crusade (1989)  Snatch (2000)  \\\n",
       "0                                           3.0            NaN   \n",
       "1                                           NaN            NaN   \n",
       "2                                           NaN            NaN   \n",
       "3                                           3.0            NaN   \n",
       "4                                           0.5            NaN   \n",
       "...                                         ...            ...   \n",
       "1092                                        3.5            NaN   \n",
       "1093                                        4.0            4.0   \n",
       "1094                                        NaN            NaN   \n",
       "1095                                        NaN            NaN   \n",
       "1096                                        2.5            NaN   \n",
       "\n",
       "      Rambo: First Blood Part II (1985)  Fargo (1996)  \\\n",
       "0                                   NaN           NaN   \n",
       "1                                   NaN           NaN   \n",
       "2                                   NaN           NaN   \n",
       "3                                   NaN           NaN   \n",
       "4                                   0.5           1.0   \n",
       "...                                 ...           ...   \n",
       "1092                                NaN           NaN   \n",
       "1093                                2.5           NaN   \n",
       "1094                                NaN           3.5   \n",
       "1095                                NaN           NaN   \n",
       "1096                                NaN           3.0   \n",
       "\n",
       "      Let the Right One In (2008)  Black Swan (2010)  ...  \\\n",
       "0                             NaN                NaN  ...   \n",
       "1                             NaN                NaN  ...   \n",
       "2                             NaN                NaN  ...   \n",
       "3                             NaN                4.0  ...   \n",
       "4                             NaN                0.0  ...   \n",
       "...                           ...                ...  ...   \n",
       "1092                          NaN                NaN  ...   \n",
       "1093                          3.5                3.5  ...   \n",
       "1094                          NaN                NaN  ...   \n",
       "1095                          NaN                NaN  ...   \n",
       "1096                          NaN                3.5  ...   \n",
       "\n",
       "      When watching a movie I cheer or shout or talk or curse at the screen  \\\n",
       "0                                                   1.0                       \n",
       "1                                                   3.0                       \n",
       "2                                                   5.0                       \n",
       "3                                                   3.0                       \n",
       "4                                                   2.0                       \n",
       "...                                                 ...                       \n",
       "1092                                                3.0                       \n",
       "1093                                                5.0                       \n",
       "1094                                                6.0                       \n",
       "1095                                                1.0                       \n",
       "1096                                                3.0                       \n",
       "\n",
       "      When watching a movie I feel like the things on the screen are happening to me  \\\n",
       "0                                                   6.0                                \n",
       "1                                                   1.0                                \n",
       "2                                                   4.0                                \n",
       "3                                                   1.0                                \n",
       "4                                                   3.0                                \n",
       "...                                                 ...                                \n",
       "1092                                                4.0                                \n",
       "1093                                                3.0                                \n",
       "1094                                                3.0                                \n",
       "1095                                                1.0                                \n",
       "1096                                                4.0                                \n",
       "\n",
       "      As a movie unfolds I start to have problems keeping track of events that happened earlier  \\\n",
       "0                                                   2.0                                           \n",
       "1                                                   1.0                                           \n",
       "2                                                   3.0                                           \n",
       "3                                                   1.0                                           \n",
       "4                                                   2.0                                           \n",
       "...                                                 ...                                           \n",
       "1092                                                3.0                                           \n",
       "1093                                                5.0                                           \n",
       "1094                                                1.0                                           \n",
       "1095                                                1.0                                           \n",
       "1096                                                1.0                                           \n",
       "\n",
       "      The emotions on the screen \"rub off\" on me - for instance if something sad is happening I get sad or if something frightening is happening I get scared  \\\n",
       "0                                                   5.0                                                                                                         \n",
       "1                                                   6.0                                                                                                         \n",
       "2                                                   5.0                                                                                                         \n",
       "3                                                   4.0                                                                                                         \n",
       "4                                                   5.0                                                                                                         \n",
       "...                                                 ...                                                                                                         \n",
       "1092                                                5.0                                                                                                         \n",
       "1093                                                5.0                                                                                                         \n",
       "1094                                                6.0                                                                                                         \n",
       "1095                                                4.0                                                                                                         \n",
       "1096                                                4.0                                                                                                         \n",
       "\n",
       "      When watching a movie I get completely immersed in the alternative reality of the film  \\\n",
       "0                                                   5.0                                        \n",
       "1                                                   5.0                                        \n",
       "2                                                   5.0                                        \n",
       "3                                                   5.0                                        \n",
       "4                                                   6.0                                        \n",
       "...                                                 ...                                        \n",
       "1092                                                5.0                                        \n",
       "1093                                                5.0                                        \n",
       "1094                                                6.0                                        \n",
       "1095                                                3.0                                        \n",
       "1096                                                4.0                                        \n",
       "\n",
       "      Movies change my position on social economic or political issues  \\\n",
       "0                                                   5.0                  \n",
       "1                                                   3.0                  \n",
       "2                                                   4.0                  \n",
       "3                                                   3.0                  \n",
       "4                                                   4.0                  \n",
       "...                                                 ...                  \n",
       "1092                                                4.0                  \n",
       "1093                                                6.0                  \n",
       "1094                                                4.0                  \n",
       "1095                                                3.0                  \n",
       "1096                                                4.0                  \n",
       "\n",
       "      When watching movies things get so intense that I have to stop watching  \\\n",
       "0                                                   1.0                         \n",
       "1                                                   2.0                         \n",
       "2                                                   4.0                         \n",
       "3                                                   1.0                         \n",
       "4                                                   4.0                         \n",
       "...                                                 ...                         \n",
       "1092                                                4.0                         \n",
       "1093                                                5.0                         \n",
       "1094                                                2.0                         \n",
       "1095                                                1.0                         \n",
       "1096                                                1.0                         \n",
       "\n",
       "      Gender identity (1 = female; 2 = male; 3 = self-described)  \\\n",
       "0                                                   1.0            \n",
       "1                                                   1.0            \n",
       "2                                                   1.0            \n",
       "3                                                   1.0            \n",
       "4                                                   1.0            \n",
       "...                                                 ...            \n",
       "1092                                                1.0            \n",
       "1093                                                1.0            \n",
       "1094                                                1.0            \n",
       "1095                                                1.0            \n",
       "1096                                                1.0            \n",
       "\n",
       "      Are you an only child? (1: Yes; 0: No; -1: Did not respond)  \\\n",
       "0                                                     0             \n",
       "1                                                     0             \n",
       "2                                                     1             \n",
       "3                                                     0             \n",
       "4                                                     1             \n",
       "...                                                 ...             \n",
       "1092                                                  0             \n",
       "1093                                                  0             \n",
       "1094                                                  0             \n",
       "1095                                                  0             \n",
       "1096                                                  0             \n",
       "\n",
       "      Movies are best enjoyed alone (1: Yes; 0: No; -1: Did not respond)  \n",
       "0                                                     1                   \n",
       "1                                                     0                   \n",
       "2                                                     0                   \n",
       "3                                                     1                   \n",
       "4                                                     1                   \n",
       "...                                                 ...                   \n",
       "1092                                                  0                   \n",
       "1093                                                  0                   \n",
       "1094                                                  0                   \n",
       "1095                                                  1                   \n",
       "1096                                                  1                   \n",
       "\n",
       "[1097 rows x 477 columns]"
      ]
     },
     "execution_count": 3,
     "metadata": {},
     "output_type": "execute_result"
    }
   ],
   "source": [
    "df"
   ]
  },
  {
   "cell_type": "code",
   "execution_count": 4,
   "id": "2cd58cd3-cc09-4aec-ad28-652005c5a189",
   "metadata": {},
   "outputs": [],
   "source": [
    "sensation = df.iloc[:, 400:420].dropna().values\n",
    "experience = df.iloc[:, 464:474].dropna().values"
   ]
  },
  {
   "cell_type": "code",
   "execution_count": 5,
   "id": "1407e397-edf3-496e-ad18-b6395a5445c5",
   "metadata": {},
   "outputs": [
    {
     "name": "stdout",
     "output_type": "stream",
     "text": [
      "17.477\n",
      "8.864\n",
      "8.142\n",
      "6.553\n",
      "5.76\n",
      "5.225\n",
      "4.975\n",
      "4.815\n",
      "4.5\n",
      "4.286\n",
      "3.976\n",
      "3.736\n",
      "3.694\n",
      "3.33\n",
      "3.114\n",
      "2.943\n",
      "2.739\n",
      "2.541\n",
      "1.709\n",
      "1.622\n"
     ]
    }
   ],
   "source": [
    "zscoredData = stats.zscore(sensation)\n",
    "pca = PCA().fit(zscoredData)\n",
    "eigVals = pca.explained_variance_\n",
    "loadings = pca.components_\n",
    "roatatedData = pca.fit_transform(zscoredData)\n",
    "covarExplained = eigVals/sum(eigVals)*100\n",
    "for ii in range(len(covarExplained)):\n",
    "    print(covarExplained[ii].round(3))"
   ]
  },
  {
   "cell_type": "code",
   "execution_count": 6,
   "id": "edc60fa0-79d7-45b4-8a94-f2da0f7189bf",
   "metadata": {},
   "outputs": [
    {
     "data": {
      "image/png": "[encoded data removed]",
      "text/plain": [
       "<Figure size 432x288 with 1 Axes>"
      ]
     },
     "metadata": {
      "needs_background": "light"
     },
     "output_type": "display_data"
    }
   ],
   "source": [
    "numques = 20\n",
    "x = np.linspace(1, numques, numques)\n",
    "plt.bar(x, eigVals, color='gray')\n",
    "plt.plot([0, numques],[1,1],color='orange')\n",
    "plt.show()"
   ]
  },
  {
   "cell_type": "code",
   "execution_count": 7,
   "id": "8eb926dd-fdcc-44f9-98f1-1838f379c9e9",
   "metadata": {},
   "outputs": [
    {
     "name": "stdout",
     "output_type": "stream",
     "text": [
      "6\n"
     ]
    }
   ],
   "source": [
    "print(np.count_nonzero(eigVals > 1))"
   ]
  },
  {
   "cell_type": "code",
   "execution_count": 8,
   "id": "ce836a52-deaf-4e47-bc01-1ed7ea533c20",
   "metadata": {},
   "outputs": [
    {
     "data": {
      "image/png": "[encoded data removed]",
      "text/plain": [
       "<Figure size 432x288 with 1 Axes>"
      ]
     },
     "metadata": {
      "needs_background": "light"
     },
     "output_type": "display_data"
    }
   ],
   "source": [
    "whichPrincipleComponent = 0\n",
    "plt.bar(x, loadings[whichPrincipleComponent, :])\n",
    "plt.xlabel('Questions')\n",
    "plt.ylabel('Loading')\n",
    "plt.show()"
   ]
  },
  {
   "cell_type": "code",
   "execution_count": 9,
   "id": "bdf76f85-2aef-442f-8748-5c5219b7ec99",
   "metadata": {},
   "outputs": [
    {
     "data": {
      "text/plain": [
       "Index(['I enjoy driving fast', 'I enjoy rollercoasters ',\n",
       "       'Have you ever bungee-jumped?', 'I enjoy impulse shopping',\n",
       "       'I sometimes go out on weeknights even if I have work to do',\n",
       "       'I enjoy doing things without too much planning ',\n",
       "       'Have you ever been rock climbing?',\n",
       "       'I enjoy being in large loud crowds like the Times Square Ball Drop on New Years Eve',\n",
       "       'I enjoy going to large music or dance festivals ',\n",
       "       'I enjoy watching horror movies', 'No risk - No fun',\n",
       "       'I like to be surprised even if it startles or scares me',\n",
       "       'Have you ever parachuted?', 'I enjoy haunted houses',\n",
       "       'I had a sheltered upbringing', 'My life is very stressful',\n",
       "       'I value my life to be well ordered and predictable',\n",
       "       'Have you ridden a motorcycle?', 'Have you gambled or bet for money?',\n",
       "       'Have you ever been sky-diving?'],\n",
       "      dtype='object')"
      ]
     },
     "execution_count": 9,
     "metadata": {},
     "output_type": "execute_result"
    }
   ],
   "source": [
    "df.iloc[:, 400:420].columns"
   ]
  },
  {
   "cell_type": "code",
   "execution_count": 10,
   "id": "ac498fc8-5c2d-48a1-b6e3-6d64f943878b",
   "metadata": {},
   "outputs": [
    {
     "name": "stdout",
     "output_type": "stream",
     "text": [
      "29.426\n",
      "18.75\n",
      "8.779\n",
      "8.557\n",
      "7.724\n",
      "6.951\n",
      "5.743\n",
      "5.54\n",
      "4.389\n",
      "4.141\n"
     ]
    }
   ],
   "source": [
    "zscoredData = stats.zscore(experience)\n",
    "pca = PCA().fit(zscoredData)\n",
    "eigVals = pca.explained_variance_\n",
    "loadings = pca.components_\n",
    "roatatedData = pca.fit_transform(zscoredData)\n",
    "covarExplained = eigVals/sum(eigVals)*100\n",
    "for ii in range(len(covarExplained)):\n",
    "    print(covarExplained[ii].round(3))"
   ]
  },
  {
   "cell_type": "code",
   "execution_count": 11,
   "id": "dff41948-7dad-46d0-b5cd-f2cf5063db4f",
   "metadata": {},
   "outputs": [
    {
     "data": {
      "image/png": "[encoded data removed]",
      "text/plain": [
       "<Figure size 432x288 with 1 Axes>"
      ]
     },
     "metadata": {
      "needs_background": "light"
     },
     "output_type": "display_data"
    }
   ],
   "source": [
    "numques = 10\n",
    "x = np.linspace(1, numques, numques)\n",
    "plt.bar(x, eigVals, color='gray')\n",
    "plt.plot([0, numques],[1,1],color='orange')\n",
    "plt.show()"
   ]
  },
  {
   "cell_type": "code",
   "execution_count": 12,
   "id": "e01a4f87-ab14-4220-a856-1c65eeb0c874",
   "metadata": {},
   "outputs": [
    {
     "data": {
      "image/png": "[encoded data removed]",
      "text/plain": [
       "<Figure size 432x288 with 1 Axes>"
      ]
     },
     "metadata": {
      "needs_background": "light"
     },
     "output_type": "display_data"
    }
   ],
   "source": [
    "whichPrincipleComponent = 0\n",
    "plt.bar(x, loadings[whichPrincipleComponent, :])\n",
    "plt.xlabel('Questions')\n",
    "plt.ylabel('Loading')\n",
    "plt.show()"
   ]
  },
  {
   "cell_type": "code",
   "execution_count": 13,
   "id": "954b33dd-6027-431d-ad57-5e72ee631f98",
   "metadata": {},
   "outputs": [],
   "source": [
    "popularity_per_movie = {}\n",
    "for i in df.columns:\n",
    "    c = 0\n",
    "    for j in df[i]:\n",
    "        if np.isnan(j) != True:\n",
    "            c+=1\n",
    "    popularity_per_movie[i] = c"
   ]
  },
  {
   "cell_type": "code",
   "execution_count": 14,
   "id": "f9342e62-7ace-4e60-b637-49601b841059",
   "metadata": {},
   "outputs": [
    {
     "data": {
      "text/plain": [
       "266.0"
      ]
     },
     "execution_count": 14,
     "metadata": {},
     "output_type": "execute_result"
    }
   ],
   "source": [
    "pop_list = np.array([i[1] for i in popularity_per_movie.items()])\n",
    "np.median(pop_list)"
   ]
  },
  {
   "cell_type": "code",
   "execution_count": 15,
   "id": "19617fde-1452-4738-aad6-6a1579108f5a",
   "metadata": {},
   "outputs": [],
   "source": [
    "# more popular > 266, less popular <= 266"
   ]
  },
  {
   "cell_type": "code",
   "execution_count": 16,
   "id": "f52282dc-406c-446e-bb8d-a6c793efff95",
   "metadata": {},
   "outputs": [],
   "source": [
    "movie_greater = np.array([i[0] for i in popularity_per_movie.items() if i[1] > 266])\n",
    "movie_smaller = np.array([i[0] for i in popularity_per_movie.items() if i[1] <= 266])"
   ]
  },
  {
   "cell_type": "code",
   "execution_count": 17,
   "id": "3d10a277-e66e-4b92-9c93-4f05d196106d",
   "metadata": {},
   "outputs": [],
   "source": [
    "df_g = df[movie_greater]\n",
    "df_s = df[movie_smaller]"
   ]
  },
  {
   "cell_type": "code",
   "execution_count": 18,
   "id": "a19a049f-4bf9-46a5-8b3a-15a029b19dee",
   "metadata": {},
   "outputs": [],
   "source": [
    "g_rate = df_g.mean(axis=1).values\n",
    "s_rate = df_s.mean(axis=1).values"
   ]
  },
  {
   "cell_type": "code",
   "execution_count": 19,
   "id": "60b93291-1bf1-481e-972c-53e60eec5bfc",
   "metadata": {},
   "outputs": [],
   "source": [
    "temp = np.array([np.isnan(g_rate),np.isnan(s_rate)],dtype = bool)\n",
    "temp2 = temp * 1\n",
    "temp2 = sum(temp2)\n",
    "missingData = np.where(temp2>0)\n",
    "g_clean = np.delete(g_rate, missingData)\n",
    "s_clean = np.delete(s_rate, missingData)"
   ]
  },
  {
   "cell_type": "code",
   "execution_count": 20,
   "id": "a8ec5dc0-f359-4f00-9790-923c6c4a2b17",
   "metadata": {},
   "outputs": [],
   "source": [
    "combined = np.transpose(np.array([g_clean,s_clean]))"
   ]
  },
  {
   "cell_type": "code",
   "execution_count": 21,
   "id": "5db15d03-163b-4df0-84f0-45906cf361a8",
   "metadata": {},
   "outputs": [
    {
     "data": {
      "text/plain": [
       "2.4971756804292576e-25"
      ]
     },
     "execution_count": 21,
     "metadata": {},
     "output_type": "execute_result"
    }
   ],
   "source": [
    "t, p = stats.ttest_ind(combined[:,0], combined[:,1])\n",
    "p # more popular is higher, p < 0.05"
   ]
  },
  {
   "cell_type": "code",
   "execution_count": 22,
   "id": "cd19e1ed",
   "metadata": {},
   "outputs": [
    {
     "name": "stdout",
     "output_type": "stream",
     "text": [
      "3.0597416441060004 0.017629769212679225\n"
     ]
    }
   ],
   "source": [
    "lower, higher = stats.norm.interval(alpha=0.95, loc=np.mean(combined[:,0]), scale=stats.sem(combined[:,0]))\n",
    "print(np.mean(combined[:,0]), (higher-lower)/2)"
   ]
  },
  {
   "cell_type": "code",
   "execution_count": 23,
   "id": "6e11403c",
   "metadata": {},
   "outputs": [
    {
     "name": "stdout",
     "output_type": "stream",
     "text": [
      "2.835141368458895 0.03788909325498091\n"
     ]
    }
   ],
   "source": [
    "lower, higher = stats.norm.interval(alpha=0.95, loc=np.mean(combined[:,1]), scale=stats.sem(combined[:,1]))\n",
    "print(np.mean(combined[:,1]), (higher-lower)/2)"
   ]
  },
  {
   "cell_type": "code",
   "execution_count": 24,
   "id": "ae1b2eb6",
   "metadata": {},
   "outputs": [],
   "source": [
    "# no over laps, significant"
   ]
  },
  {
   "cell_type": "code",
   "execution_count": 25,
   "id": "f16c321f-1b17-49ab-8b7d-e3adb59889fa",
   "metadata": {},
   "outputs": [],
   "source": [
    "femalerows = df.index[df['Gender identity (1 = female; 2 = male; 3 = self-described)'] == 1].values\n",
    "malerows = df.index[df['Gender identity (1 = female; 2 = male; 3 = self-described)'] == 2].values"
   ]
  },
  {
   "cell_type": "code",
   "execution_count": 26,
   "id": "3c4fd534",
   "metadata": {},
   "outputs": [],
   "source": [
    "femalerate = df['Shrek (2001)'][femalerows].dropna().values\n",
    "malerate = df['Shrek (2001)'][malerows].dropna().values"
   ]
  },
  {
   "cell_type": "code",
   "execution_count": 27,
   "id": "18caa7f5-29aa-47ce-837f-7a78ce899843",
   "metadata": {},
   "outputs": [
    {
     "data": {
      "text/plain": [
       "LeveneResult(statistic=0.44722614898750407, pvalue=0.503812335250825)"
      ]
     },
     "execution_count": 27,
     "metadata": {},
     "output_type": "execute_result"
    }
   ],
   "source": [
    "stats.levene(femalerate, malerate) # they are homogenously variant"
   ]
  },
  {
   "cell_type": "code",
   "execution_count": 28,
   "id": "c61052cd",
   "metadata": {},
   "outputs": [
    {
     "data": {
      "text/plain": [
       "0.24834907946281018"
      ]
     },
     "execution_count": 28,
     "metadata": {},
     "output_type": "execute_result"
    }
   ],
   "source": [
    "t, p = stats.ttest_ind(femalerate, malerate, equal_var=False)\n",
    "p # no, p > 0.05"
   ]
  },
  {
   "cell_type": "code",
   "execution_count": 29,
   "id": "3a968697",
   "metadata": {},
   "outputs": [
    {
     "name": "stdout",
     "output_type": "stream",
     "text": [
      "3.155450874831763 0.06518442096040955\n"
     ]
    }
   ],
   "source": [
    "lower, higher = stats.norm.interval(alpha=0.95, loc=np.mean(femalerate), scale=stats.sem(femalerate))\n",
    "print(np.mean(femalerate), (higher-lower)/2)"
   ]
  },
  {
   "cell_type": "code",
   "execution_count": 30,
   "id": "79800880",
   "metadata": {},
   "outputs": [
    {
     "name": "stdout",
     "output_type": "stream",
     "text": [
      "3.08298755186722 0.10415510365852665\n"
     ]
    }
   ],
   "source": [
    "lower, higher = stats.norm.interval(alpha=0.95, loc=np.mean(malerate), scale=stats.sem(malerate))\n",
    "print(np.mean(malerate), (higher-lower)/2)"
   ]
  },
  {
   "cell_type": "code",
   "execution_count": 31,
   "id": "913c1ae1",
   "metadata": {},
   "outputs": [],
   "source": [
    "# overlap, not statistically significant"
   ]
  },
  {
   "cell_type": "code",
   "execution_count": null,
   "id": "b30ffc72",
   "metadata": {},
   "outputs": [],
   "source": []
  }
 ],
 "metadata": {
  "kernelspec": {
   "display_name": "Python 3",
   "language": "python",
   "name": "python3"
  },
  "language_info": {
   "codemirror_mode": {
    "name": "ipython",
    "version": 3
   },
   "file_extension": ".py",
   "mimetype": "text/x-python",
   "name": "python",
   "nbconvert_exporter": "python",
   "pygments_lexer": "ipython3",
   "version": "3.9.6"
  }
 },
 "nbformat": 4,
 "nbformat_minor": 5
}
